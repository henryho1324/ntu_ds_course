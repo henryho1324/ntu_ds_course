{
  "nbformat": 4,
  "nbformat_minor": 0,
  "metadata": {
    "kernelspec": {
      "display_name": "Python 3",
      "language": "python",
      "name": "python3"
    },
    "language_info": {
      "codemirror_mode": {
        "name": "ipython",
        "version": 3
      },
      "file_extension": ".py",
      "mimetype": "text/x-python",
      "name": "python",
      "nbconvert_exporter": "python",
      "pygments_lexer": "ipython3",
      "version": "3.7.6"
    },
    "toc": {
      "base_numbering": 1,
      "nav_menu": {},
      "number_sections": true,
      "sideBar": true,
      "skip_h1_title": false,
      "title_cell": "Table of Contents",
      "title_sidebar": "Contents",
      "toc_cell": false,
      "toc_position": {
        "height": "calc(100% - 180px)",
        "left": "10px",
        "top": "150px",
        "width": "222px"
      },
      "toc_section_display": true,
      "toc_window_display": true
    },
    "varInspector": {
      "cols": {
        "lenName": 16,
        "lenType": 16,
        "lenVar": 40
      },
      "kernels_config": {
        "python": {
          "delete_cmd_postfix": "",
          "delete_cmd_prefix": "del ",
          "library": "var_list.py",
          "varRefreshCmd": "print(var_dic_list())"
        },
        "r": {
          "delete_cmd_postfix": ") ",
          "delete_cmd_prefix": "rm(",
          "library": "var_list.r",
          "varRefreshCmd": "cat(var_dic_list()) "
        }
      },
      "types_to_exclude": [
        "module",
        "function",
        "builtin_function_or_method",
        "instance",
        "_Feature"
      ],
      "window_display": false
    },
    "colab": {
      "name": "P01_counting.ipynb",
      "provenance": [],
      "collapsed_sections": [],
      "toc_visible": true,
      "include_colab_link": true
    }
  },
  "cells": [
    {
      "cell_type": "markdown",
      "metadata": {
        "id": "view-in-github",
        "colab_type": "text"
      },
      "source": [
        "<a href=\"https://colab.research.google.com/github/henryho1324/henry5566/blob/master/P01_counting.ipynb\" target=\"_parent\"><img src=\"https://colab.research.google.com/assets/colab-badge.svg\" alt=\"Open In Colab\"/></a>"
      ]
    },
    {
      "cell_type": "markdown",
      "metadata": {
        "id": "uJLILcc3Vsc1"
      },
      "source": [
        "# Resource\n",
        "* [Slide: Py01 Counting](https://docs.google.com/presentation/d/e/2PACX-1vT9xw6FZzdlR1QcXHZe-bQ8eeYftltAAutHPNTyyMcLkevEr2bHOBfrpaaZpMaTb1gb1ufUX00jeu8w/pub?start=false&loop=false&delayms=3000)\n",
        "\n",
        "* [Github Repo](https://github.com/P4CSS/PSS) "
      ]
    },
    {
      "cell_type": "markdown",
      "metadata": {
        "id": "IO2oAUEcCFPz"
      },
      "source": [
        "# Counting: The fruit-counting problem\n",
        "寫程式是模仿你解決問題的邏輯，讓電腦幫你重複做，大量的做。因此，重要的是你解決問題的邏輯。數物件、數水果就是個很實用的演算法邏輯，教你怎麼計算一堆物品中，每個物件各有幾個。相關範例有：\n",
        "* 全班有這麼多人，我想算算每個科系有多少人，好知道系所比例安排專題。\n",
        "* 你被當好人跑腿，幫全班買飲料，結果一票人買了很多種飲料，只好一杯一杯畫正字。\n",
        "* 計算某一篇文章裡面，每個字出現幾次（字頻）；依照0~10、10~20依此類推計算學生的成績分布。\n",
        "\n",
        "## 問題定義\n",
        "\n",
        "考慮一個狀況，有一個跟一座山一樣多的水果，不知道有幾種水果，也不知道有幾顆，你必須要數出各種水果有幾顆，你會怎麼數？\n",
        "\n",
        "**Solution**: \n",
        "* 若你今天在用Excel處理的話，會使用`COUNTIF`函式，作法如下[Excel skills: How do I get the distinct/uniq](https://paper.dropbox.com/doc/Excel-skills--AMhtEb1RwJRKglJS17HxOonIAQ-oFgGCjW9W1m7UXBsdq6UG)\n",
        "* 如果你是用R來處理的話，那就會是`count(vec)`。\n",
        "---"
      ]
    },
    {
      "cell_type": "markdown",
      "metadata": {
        "id": "SfvlrByqCFP6"
      },
      "source": [
        "# Programming the fruit-counting problem\n",
        "以下這個例子將帶你從最基礎的語法，用Python最基礎的資料型態來「計數（counting）」\n",
        "\n",
        "\n",
        "## Progammable thinking\n",
        "先想想若你在數水果實際上你是怎麼數？Ans. 一顆一顆數。\n",
        "\n",
        "那你怎麼記住哪一種水果有幾顆？Ans. 拿出一張紙，看到一種沒看過的水果，就新增一個「對應」，將水果名稱對應到0，然後在對應的欄位數值遞增一。若已經看過該水果，那就直接找到那個欄位遞增一即可。\n",
        "\n",
        "    apple 3\n",
        "    orange 2\n",
        "    kiwi 3\n",
        "\n",
        "## Elaborated thinking\n",
        "1. 先拿出一張紙做對應表， 左一行要寫水果名，右一行為他所對應到的水果數量\n",
        "2. 把水果排成一列準備一個一個數\n",
        "3. 對在該列中的每顆水果\n",
        "    * 如果我沒看過他\n",
        "        * 就在對應表記下該水果，登記該水果為1顆。\n",
        "    * 若我有看過他\n",
        "        * 就把對應表上的那個水果所對應到的數字加1。"
      ]
    },
    {
      "cell_type": "markdown",
      "metadata": {
        "id": "KJdPfyydCFP7"
      },
      "source": [
        "---\n",
        "## Describing in in English\n",
        "1. build a look-up table to record each fruit and number of the fruit(calls it dictionary), naming as `fruit_count`\n",
        "2. keep all fruits in a list named `fruit_list`\n",
        "3. for each `fruit` in `fruit_list`: \n",
        "    * If the fruit does not appear in `fruit_count`\n",
        "        * Create a mapping in `fruit_count` to map the `fruit` name to 1\n",
        "    * else\n",
        "        * increase the mapped value of the `fruit` name in `fruit_count`"
      ]
    },
    {
      "cell_type": "markdown",
      "metadata": {
        "id": "VD4jaMykCFP8"
      },
      "source": [
        "# Convert it to python\n",
        "* Assignment\n",
        "`variable = value`\n",
        "* Assigning an empty dictionary to a vriable\n",
        "`fruit_count = {}`\n",
        "* Assigning an list containing value to a variable\n",
        "`fruit_list = ['a', 'b', 'c', 'a', 'd', 'a', 'w', 'b']`\n",
        "* `var[]` Brackes are used to access a list or a dictionry\n",
        "`fruit_list[1]`\n",
        "`fruit_count[\"a\"]`\n",
        "* a = a + 1 is a typical incrementer 遞增運算\n",
        "`fruit_count[fruit] = fruit_count[fruit] + 1`\n",
        "* list is ordered `fruit_list[2]`\n",
        "* A dictionary is an unordered key-to-value pair `fruit_count[\"b\"]`"
      ]
    },
    {
      "cell_type": "code",
      "metadata": {
        "ExecuteTime": {
          "end_time": "2020-03-09T16:31:01.002367Z",
          "start_time": "2020-03-09T16:31:00.995311Z"
        },
        "id": "P9P7hpirCFP8",
        "outputId": "0db58fd8-a9e3-41c7-82f0-514f1ef28623"
      },
      "source": [
        "# Create an empty dictionry to store the key to value pairs\n",
        "fruit_count = {}\n",
        "\n",
        "# Create a list to store all things to count\n",
        "fruit_list = ['apple', 'apple', 'banana', 'apple', 'banana', 'grape', 'banana', 'apple'] # A list of fruit\n",
        "\n",
        "# For each fruit in the list...\n",
        "for fruit in fruit_list:\n",
        "    if fruit not in fruit_count:\n",
        "        fruit_count[fruit] = 1\n",
        "    else:\n",
        "        fruit_count[fruit] = fruit_count[fruit] + 1\n",
        "\n",
        "# apple 4\n",
        "# banana 3\n",
        "# grape 1\n",
        "        \n",
        "print(fruit_count)"
      ],
      "execution_count": null,
      "outputs": [
        {
          "output_type": "stream",
          "text": [
            "{'apple': 4, 'banana': 3, 'grape': 1}\n"
          ],
          "name": "stdout"
        }
      ]
    },
    {
      "cell_type": "markdown",
      "metadata": {
        "id": "xDMyamfFCFP9"
      },
      "source": [
        "# Dictionary: Print out all pair of data by for-loop"
      ]
    },
    {
      "cell_type": "code",
      "metadata": {
        "ExecuteTime": {
          "end_time": "2020-03-09T16:31:14.160029Z",
          "start_time": "2020-03-09T16:31:14.156614Z"
        },
        "id": "mPHTfzZDCFP9",
        "outputId": "6fd7496f-f9e9-456e-e8a2-133ba6916bab"
      },
      "source": [
        "print(fruit_list)"
      ],
      "execution_count": null,
      "outputs": [
        {
          "output_type": "stream",
          "text": [
            "['apple', 'apple', 'banana', 'apple', 'banana', 'grape', 'banana', 'apple']\n"
          ],
          "name": "stdout"
        }
      ]
    },
    {
      "cell_type": "code",
      "metadata": {
        "ExecuteTime": {
          "end_time": "2020-03-09T16:32:55.075470Z",
          "start_time": "2020-03-09T16:32:55.069715Z"
        },
        "id": "RbTCy8X4CFP9",
        "outputId": "20f79303-5bd7-4d02-d043-a0e37a37438f"
      },
      "source": [
        "# Print the dictionary\n",
        "print(fruit_count)\n",
        "\n",
        "# Print all keys\n",
        "print(fruit_count.keys())\n",
        "\n",
        "# Print all values mapped by keys\n",
        "print(fruit_count.values())\n",
        "\n",
        "# Print all key-to-value pairs\n",
        "print(fruit_count.items())\n"
      ],
      "execution_count": null,
      "outputs": [
        {
          "output_type": "stream",
          "text": [
            "{'apple': 4, 'banana': 3, 'grape': 1}\n",
            "dict_keys(['apple', 'banana', 'grape'])\n",
            "dict_values([4, 3, 1])\n",
            "dict_items([('apple', 4), ('banana', 3), ('grape', 1)])\n"
          ],
          "name": "stdout"
        }
      ]
    },
    {
      "cell_type": "code",
      "metadata": {
        "ExecuteTime": {
          "end_time": "2020-03-09T16:34:57.555124Z",
          "start_time": "2020-03-09T16:34:57.550281Z"
        },
        "id": "hqBtX5rtCFP-",
        "outputId": "08f569a1-6a4a-4a78-b464-ef0da714f974"
      },
      "source": [
        "for k in fruit_count:\n",
        "    print(k, \"\\t\", fruit_count[k])\n",
        "#     print(key, fruit_count[key])"
      ],
      "execution_count": null,
      "outputs": [
        {
          "output_type": "stream",
          "text": [
            "apple \t 4\n",
            "banana \t 3\n",
            "grape \t 1\n"
          ],
          "name": "stdout"
        }
      ]
    },
    {
      "cell_type": "code",
      "metadata": {
        "ExecuteTime": {
          "end_time": "2020-03-09T16:36:43.929868Z",
          "start_time": "2020-03-09T16:36:43.925989Z"
        },
        "id": "6Gg5Q2sUCFP-",
        "outputId": "e29114b9-be88-4307-9822-1fb767482386"
      },
      "source": [
        "for k, v in fruit_count.items():\n",
        "    print(k, \"\\t\", v)\n",
        "    "
      ],
      "execution_count": null,
      "outputs": [
        {
          "output_type": "stream",
          "text": [
            "apple \t 4\n",
            "banana \t 3\n",
            "grape \t 1\n"
          ],
          "name": "stdout"
        }
      ]
    },
    {
      "cell_type": "markdown",
      "metadata": {
        "id": "6cL8n-xJCFP-"
      },
      "source": [
        "# Shorter versions\n",
        "## Using list.count(key) to count the frequency of something"
      ]
    },
    {
      "cell_type": "code",
      "metadata": {
        "ExecuteTime": {
          "end_time": "2020-03-09T05:01:20.187865Z",
          "start_time": "2020-03-09T05:01:20.184133Z"
        },
        "id": "tI8nc_Z_CFP_",
        "outputId": "96fdac61-f9c6-47fb-c38b-0c77bd727c7d"
      },
      "source": [
        "fruit_list.count(\"apple\")"
      ],
      "execution_count": null,
      "outputs": [
        {
          "output_type": "execute_result",
          "data": {
            "text/plain": [
              "4"
            ]
          },
          "metadata": {
            "tags": []
          },
          "execution_count": 24
        }
      ]
    },
    {
      "cell_type": "code",
      "metadata": {
        "ExecuteTime": {
          "end_time": "2020-03-09T05:00:54.948668Z",
          "start_time": "2020-03-09T05:00:54.944797Z"
        },
        "id": "TSlZeJjYCFP_",
        "outputId": "b0f711f7-42d4-47ca-e1e8-dbd85357165f"
      },
      "source": [
        "fruit_count = {} # dictionary, key to value pairs\n",
        "\n",
        "fruit_list = ['apple', 'apple', 'banana', 'apple', 'banana', 'grape', 'banana', 'apple'] # A list of fruit\n",
        "\n",
        "for fruit in fruit_list:\n",
        "    if fruit not in fruit_count:\n",
        "        fruit_count[fruit] = fruit_list.count(fruit)\n",
        "print(fruit_count)"
      ],
      "execution_count": null,
      "outputs": [
        {
          "output_type": "stream",
          "text": [
            "{'apple': 4, 'banana': 3, 'grape': 1}\n"
          ],
          "name": "stdout"
        }
      ]
    },
    {
      "cell_type": "markdown",
      "metadata": {
        "id": "tS1sseK8CFP_"
      },
      "source": [
        "## Using set(fruit_list) to gaurantee unique value in the list¶\n",
        "\n",
        "[Visualized by PythonTutor](http://pythontutor.com/visualize.html#code=fruit_list%20%3D%20%5B'apple',%20'apple',%20'banana',%20'apple',%20'banana',%20'grape',%20'banana',%20'apple'%5D%0Afruit_count%20%3D%20%7B%7D%0Afor%20k%20in%20set%28fruit_list%29%3A%0A%20%20%20%20fruit_count%5Bk%5D%20%3D%20fruit_list.count%28k%29%0Aprint%28fruit_count%29&cumulative=false&curInstr=10&heapPrimitives=nevernest&mode=display&origin=opt-frontend.js&py=3&rawInputLstJSON=%5B%5D&textReferences=false)"
      ]
    },
    {
      "cell_type": "code",
      "metadata": {
        "id": "p3TBGMcAjr1l"
      },
      "source": [
        ""
      ],
      "execution_count": null,
      "outputs": []
    },
    {
      "cell_type": "code",
      "metadata": {
        "ExecuteTime": {
          "end_time": "2020-03-09T05:02:41.876030Z",
          "start_time": "2020-03-09T05:02:41.871883Z"
        },
        "id": "QFMoZi9nCFP_",
        "outputId": "fdc7502a-f44d-4497-8881-6b75e89beba5"
      },
      "source": [
        "set(fruit_list)"
      ],
      "execution_count": null,
      "outputs": [
        {
          "output_type": "execute_result",
          "data": {
            "text/plain": [
              "{'apple', 'banana', 'grape'}"
            ]
          },
          "metadata": {
            "tags": []
          },
          "execution_count": 25
        }
      ]
    },
    {
      "cell_type": "code",
      "metadata": {
        "ExecuteTime": {
          "end_time": "2020-03-09T05:03:31.228211Z",
          "start_time": "2020-03-09T05:03:31.224314Z"
        },
        "id": "L4Badp5KCFQA",
        "outputId": "7f3bab00-01c7-42b4-f0d2-8b22bf132120"
      },
      "source": [
        "fruit_count = {}\n",
        "for k in set(fruit_list):\n",
        "    fruit_count[k] = fruit_list.count(k)\n",
        "print(fruit_count)"
      ],
      "execution_count": null,
      "outputs": [
        {
          "output_type": "stream",
          "text": [
            "{'apple': 4, 'grape': 1, 'banana': 3}\n"
          ],
          "name": "stdout"
        }
      ]
    },
    {
      "cell_type": "markdown",
      "metadata": {
        "id": "piAfZ4caCFQA"
      },
      "source": [
        "## by Comprehensive dictionary"
      ]
    },
    {
      "cell_type": "code",
      "metadata": {
        "ExecuteTime": {
          "end_time": "2020-03-09T05:04:50.778139Z",
          "start_time": "2020-03-09T05:04:50.772822Z"
        },
        "id": "5AONv9TfCFQA",
        "outputId": "0f361991-69d8-4043-af4c-0b13322e34dd"
      },
      "source": [
        "fruit_count = {k:fruit_list.count(k) for k in set(fruit_list)}\n",
        "print(fruit_count)"
      ],
      "execution_count": null,
      "outputs": [
        {
          "output_type": "stream",
          "text": [
            "{'apple': 4, 'grape': 1, 'banana': 3}\n"
          ],
          "name": "stdout"
        }
      ]
    },
    {
      "cell_type": "markdown",
      "metadata": {
        "id": "4FJrvPdQCFQA"
      },
      "source": [
        "## by `Counter()`\n",
        "[Visualized by PythonTutor](http://pythontutor.com/visualize.html#code=from%20collections%20import%20Counter%0Afruit_list%20%3D%20%5B'apple',%20'apple',%20'banana',%20'apple',%20'banana',%20'grape',%20'banana',%20'apple'%5D%20%23%20A%20list%20of%20fruit%0Afruit_count%20%3D%20Counter%28fruit_list%29%0Afor%20k,%20v,%20in%20fruit_count.items%28%29%3A%0A%20%20%20%20print%28k,%20%22%5Ct%22,%20v%29&cumulative=false&curInstr=9&heapPrimitives=nevernest&mode=display&origin=opt-frontend.js&py=3&rawInputLstJSON=%5B%5D&textReferences=false)"
      ]
    },
    {
      "cell_type": "code",
      "metadata": {
        "ExecuteTime": {
          "end_time": "2020-03-09T05:05:59.139483Z",
          "start_time": "2020-03-09T05:05:59.135434Z"
        },
        "id": "_5s7vAXvCFQA",
        "outputId": "29188bd7-27b6-46e1-e934-2033115d9acc",
        "colab": {
          "base_uri": "https://localhost:8080/"
        }
      },
      "source": [
        "from collections import Counter\n",
        "fruit_list = ['apple', 'apple', 'banana', 'apple', 'banana', 'grape', 'banana', 'apple'] # A list of fruit\n",
        "fruit_count = Counter(fruit_list)\n",
        "for k, v, in fruit_count.items():\n",
        "    print(k, \"\\t\", v)\n",
        "type(fruit_count)"
      ],
      "execution_count": 3,
      "outputs": [
        {
          "output_type": "stream",
          "name": "stdout",
          "text": [
            "apple \t 4\n",
            "banana \t 3\n",
            "grape \t 1\n"
          ]
        },
        {
          "output_type": "execute_result",
          "data": {
            "text/plain": [
              "collections.Counter"
            ]
          },
          "metadata": {},
          "execution_count": 3
        }
      ]
    },
    {
      "cell_type": "markdown",
      "metadata": {
        "id": "yLw2TAigCFQA"
      },
      "source": [
        "# Counting Word frequency: A document as your \"fruits\"\n",
        "* Now we want to count the occurrence of words in a document. Let treat each word as a distinct fruit. So you must seperate a document (or a sentence) into a list of words. \n",
        "* We want to use wikipedia sentences to demonstrate how counting can help us to understand the wording of text.\n",
        "* Before importing and using the wikipedia package, using `pip install wikipedia` to install it in your computer."
      ]
    },
    {
      "cell_type": "code",
      "metadata": {
        "id": "ljHC7XTzCYGU",
        "colab": {
          "base_uri": "https://localhost:8080/"
        },
        "outputId": "258a716f-5237-40f3-aa7e-bc3299616e85"
      },
      "source": [
        "!pip install wikipedia  # install a new third-party library"
      ],
      "execution_count": null,
      "outputs": [
        {
          "output_type": "stream",
          "text": [
            "Collecting wikipedia\n",
            "  Downloading https://files.pythonhosted.org/packages/67/35/25e68fbc99e672127cc6fbb14b8ec1ba3dfef035bf1e4c90f78f24a80b7d/wikipedia-1.4.0.tar.gz\n",
            "Requirement already satisfied: beautifulsoup4 in /usr/local/lib/python3.7/dist-packages (from wikipedia) (4.6.3)\n",
            "Requirement already satisfied: requests<3.0.0,>=2.0.0 in /usr/local/lib/python3.7/dist-packages (from wikipedia) (2.23.0)\n",
            "Requirement already satisfied: urllib3!=1.25.0,!=1.25.1,<1.26,>=1.21.1 in /usr/local/lib/python3.7/dist-packages (from requests<3.0.0,>=2.0.0->wikipedia) (1.24.3)\n",
            "Requirement already satisfied: certifi>=2017.4.17 in /usr/local/lib/python3.7/dist-packages (from requests<3.0.0,>=2.0.0->wikipedia) (2020.12.5)\n",
            "Requirement already satisfied: chardet<4,>=3.0.2 in /usr/local/lib/python3.7/dist-packages (from requests<3.0.0,>=2.0.0->wikipedia) (3.0.4)\n",
            "Requirement already satisfied: idna<3,>=2.5 in /usr/local/lib/python3.7/dist-packages (from requests<3.0.0,>=2.0.0->wikipedia) (2.10)\n",
            "Building wheels for collected packages: wikipedia\n",
            "  Building wheel for wikipedia (setup.py) ... \u001b[?25l\u001b[?25hdone\n",
            "  Created wheel for wikipedia: filename=wikipedia-1.4.0-cp37-none-any.whl size=11686 sha256=bf7d6d2d9a8691c604b66a95b2826405a9f7557fa8615856bd0246bcd5c3eb16\n",
            "  Stored in directory: /root/.cache/pip/wheels/87/2a/18/4e471fd96d12114d16fe4a446d00c3b38fb9efcb744bd31f4a\n",
            "Successfully built wikipedia\n",
            "Installing collected packages: wikipedia\n",
            "Successfully installed wikipedia-1.4.0\n"
          ],
          "name": "stdout"
        }
      ]
    },
    {
      "cell_type": "code",
      "metadata": {
        "ExecuteTime": {
          "end_time": "2020-03-09T05:12:50.986631Z",
          "start_time": "2020-03-09T05:12:50.982786Z"
        },
        "id": "UL9KgOJQCFQB",
        "outputId": "7b7a757e-d6cf-44a4-b4ec-19e8cc35bd03"
      },
      "source": [
        "import wikipedia    # import a 3rd-party library into runtime\n",
        "string_a  = wikipedia.summary(\"Big_data\", sentences = 10)   # get data by 3rd-party function\n",
        "print(type(string_a))\n",
        "print(string_a)\n",
        "# string_a = \"In 2004, Obama received national attention during his campaign to represent Illinois in the United States Senate with his victory in the March Democratic Party primary, his keynote address at the Democratic National Convention in July, and his election to the Senate in November. He began his presidential campaign in 2007 and, after a close primary campaign against Hillary Rodham Clinton in 2008, he won sufficient delegates in the Democratic Party primaries to receive the presidential nomination. He then defeated Republican nominee John McCain in the general election, and was inaugurated as president on January 20, 2009. Nine months after his inauguration, Obama was named the 2009 Nobel Peace Prize laureate\""
      ],
      "execution_count": null,
      "outputs": [
        {
          "output_type": "stream",
          "text": [
            "<class 'str'>\n",
            "Big data is a field that treats ways to analyze, systematically extract information from, or otherwise deal with data sets that are too large or complex to be dealt with by traditional data-processing application software. Data with many cases (rows) offer greater statistical power, while data with higher complexity (more attributes or columns) may lead to a higher false discovery rate. Big data challenges include capturing data, data storage, data analysis, search, sharing, transfer, visualization, querying, updating, information privacy and data source. Big data was originally associated with three key concepts: volume, variety, and velocity. When we handle big data, we may not sample but simply observe and track what happens. Therefore, big data often includes data with sizes that exceed the capacity of traditional software to process within an acceptable time and value.\n",
            "Current usage of the term big data tends to refer to the use of predictive analytics, user behavior analytics, or certain other advanced data analytics methods that extract value from data, and seldom to a particular size of data set. \"There is little doubt that the quantities of data now available are indeed large, but that's not the most relevant characteristic of this new data ecosystem.\"\n",
            "Analysis of data sets can find new correlations to \"spot business trends, prevent diseases, combat crime and so on.\" Scientists, business executives, practitioners of medicine, advertising and governments alike regularly meet difficulties with large data-sets in areas including Internet searches, fintech, urban informatics, and business informatics.  Scientists encounter limitations in e-Science work, including meteorology, genomics, connectomics, complex physics simulations, biology and environmental research.Data sets grow rapidly, to a certain extent because they are increasingly gathered by cheap and numerous information-sensing Internet of things devices such as mobile devices, aerial (remote sensing), software logs, cameras, microphones, radio-frequency identification (RFID) readers and wireless sensor networks. The world's technological per-capita capacity to store information has roughly doubled every 40 months since the 1980s; as of 2012, every day 2.5 exabytes (2.5×260 bytes) of data are generated.\n"
          ],
          "name": "stdout"
        }
      ]
    },
    {
      "cell_type": "markdown",
      "metadata": {
        "id": "Ixh9X5ryCFQB"
      },
      "source": [
        "## text preprocessing"
      ]
    },
    {
      "cell_type": "code",
      "metadata": {
        "ExecuteTime": {
          "end_time": "2020-03-09T05:14:24.641315Z",
          "start_time": "2020-03-09T05:14:24.637953Z"
        },
        "id": "dlqeoJjsCFQB",
        "outputId": "90a61c25-a4e3-4c1b-bcb7-6bfeeffda8db"
      },
      "source": [
        "import string\n",
        "print(type(string.punctuation))\n",
        "print(string.punctuation)\n"
      ],
      "execution_count": null,
      "outputs": [
        {
          "output_type": "stream",
          "text": [
            "<class 'str'>\n",
            "!\"#$%&'()*+,-./:;<=>?@[\\]^_`{|}~\n"
          ],
          "name": "stdout"
        }
      ]
    },
    {
      "cell_type": "code",
      "metadata": {
        "ExecuteTime": {
          "end_time": "2020-03-09T05:15:09.691154Z",
          "start_time": "2020-03-09T05:15:09.686679Z"
        },
        "id": "v0mzGXiDCFQB",
        "outputId": "6abd8996-32eb-46b2-ba5b-03ac6a3015ca"
      },
      "source": [
        "translator = str.maketrans('','',string.punctuation)\n",
        "string_a = string_a.translate(translator)\n",
        "string_a"
      ],
      "execution_count": null,
      "outputs": [
        {
          "output_type": "execute_result",
          "data": {
            "text/plain": [
              "'Big data is a field that treats ways to analyze systematically extract information from or otherwise deal with data sets that are too large or complex to be dealt with by traditional dataprocessing application software Data with many cases rows offer greater statistical power while data with higher complexity more attributes or columns may lead to a higher false discovery rate Big data challenges include capturing data data storage data analysis search sharing transfer visualization querying updating information privacy and data source Big data was originally associated with three key concepts volume variety and velocity When we handle big data we may not sample but simply observe and track what happens Therefore big data often includes data with sizes that exceed the capacity of traditional software to process within an acceptable time and value\\nCurrent usage of the term big data tends to refer to the use of predictive analytics user behavior analytics or certain other advanced data analytics methods that extract value from data and seldom to a particular size of data set There is little doubt that the quantities of data now available are indeed large but thats not the most relevant characteristic of this new data ecosystem\\nAnalysis of data sets can find new correlations to spot business trends prevent diseases combat crime and so on Scientists business executives practitioners of medicine advertising and governments alike regularly meet difficulties with large datasets in areas including Internet searches fintech urban informatics and business informatics  Scientists encounter limitations in eScience work including meteorology genomics connectomics complex physics simulations biology and environmental researchData sets grow rapidly to a certain extent because they are increasingly gathered by cheap and numerous informationsensing Internet of things devices such as mobile devices aerial remote sensing software logs cameras microphones radiofrequency identification RFID readers and wireless sensor networks The worlds technological percapita capacity to store information has roughly doubled every 40 months since the 1980s as of 2012 every day 25 exabytes 25×260 bytes of data are generated'"
            ]
          },
          "metadata": {
            "tags": []
          },
          "execution_count": 42
        }
      ]
    },
    {
      "cell_type": "code",
      "metadata": {
        "ExecuteTime": {
          "end_time": "2020-03-09T05:15:42.012652Z",
          "start_time": "2020-03-09T05:15:42.009506Z"
        },
        "id": "q_dpwDoTCFQB",
        "outputId": "02118265-297d-48bc-ad73-200c514fca65"
      },
      "source": [
        "string_a = string_a.lower()\n",
        "print(string_a)"
      ],
      "execution_count": null,
      "outputs": [
        {
          "output_type": "stream",
          "text": [
            "big data is a field that treats ways to analyze systematically extract information from or otherwise deal with data sets that are too large or complex to be dealt with by traditional dataprocessing application software data with many cases rows offer greater statistical power while data with higher complexity more attributes or columns may lead to a higher false discovery rate big data challenges include capturing data data storage data analysis search sharing transfer visualization querying updating information privacy and data source big data was originally associated with three key concepts volume variety and velocity when we handle big data we may not sample but simply observe and track what happens therefore big data often includes data with sizes that exceed the capacity of traditional software to process within an acceptable time and value\n",
            "current usage of the term big data tends to refer to the use of predictive analytics user behavior analytics or certain other advanced data analytics methods that extract value from data and seldom to a particular size of data set there is little doubt that the quantities of data now available are indeed large but thats not the most relevant characteristic of this new data ecosystem\n",
            "analysis of data sets can find new correlations to spot business trends prevent diseases combat crime and so on scientists business executives practitioners of medicine advertising and governments alike regularly meet difficulties with large datasets in areas including internet searches fintech urban informatics and business informatics  scientists encounter limitations in escience work including meteorology genomics connectomics complex physics simulations biology and environmental researchdata sets grow rapidly to a certain extent because they are increasingly gathered by cheap and numerous informationsensing internet of things devices such as mobile devices aerial remote sensing software logs cameras microphones radiofrequency identification rfid readers and wireless sensor networks the worlds technological percapita capacity to store information has roughly doubled every 40 months since the 1980s as of 2012 every day 25 exabytes 25×260 bytes of data are generated\n"
          ],
          "name": "stdout"
        }
      ]
    },
    {
      "cell_type": "code",
      "metadata": {
        "ExecuteTime": {
          "end_time": "2020-03-09T05:16:53.546328Z",
          "start_time": "2020-03-09T05:16:53.542223Z"
        },
        "id": "NU2UIavHCFQC",
        "outputId": "dbdcbebc-a0af-4c5c-ddce-1a3c5ab3ed2a"
      },
      "source": [
        "# astring = astring.translate(None, string.punctuation) for python 2.x\n",
        "words = string_a.split()\n",
        "words[:10]"
      ],
      "execution_count": null,
      "outputs": [
        {
          "output_type": "execute_result",
          "data": {
            "text/plain": [
              "['big', 'data', 'is', 'a', 'field', 'that', 'treats', 'ways', 'to', 'analyze']"
            ]
          },
          "metadata": {
            "tags": []
          },
          "execution_count": 49
        }
      ]
    },
    {
      "cell_type": "code",
      "metadata": {
        "ExecuteTime": {
          "end_time": "2020-03-09T05:19:18.855528Z",
          "start_time": "2020-03-09T05:19:18.850787Z"
        },
        "id": "z1k4OmTJCFQC",
        "outputId": "87e314be-7166-44c5-f385-2d8ca7be0a9c"
      },
      "source": [
        "word_freq = {}\n",
        "for w in words:\n",
        "    if w not in word_freq: # dictionary key-value initilization\n",
        "        word_freq[w] = 0\n",
        "    word_freq[w] += 1\n",
        "#         word_freq[w] = word_freq[w] + 1\n",
        "len(word_freq)"
      ],
      "execution_count": null,
      "outputs": [
        {
          "output_type": "execute_result",
          "data": {
            "text/plain": [
              "218"
            ]
          },
          "metadata": {
            "tags": []
          },
          "execution_count": 51
        }
      ]
    },
    {
      "cell_type": "code",
      "metadata": {
        "ExecuteTime": {
          "end_time": "2020-03-09T05:21:17.993018Z",
          "start_time": "2020-03-09T05:21:17.989536Z"
        },
        "id": "XlPiNAngCFQC",
        "outputId": "66f2a36c-fc74-4d1d-9e66-b43da227abd1"
      },
      "source": [
        "word_freq = Counter(words)\n",
        "print(len(word_freq))\n",
        "print(word_freq.values())\n",
        "\n",
        "value_freq = Counter(word_freq.values())\n",
        "print(value_freq)"
      ],
      "execution_count": null,
      "outputs": [
        {
          "output_type": "stream",
          "text": [
            "218\n",
            "dict_values([6, 21, 2, 4, 1, 5, 1, 1, 10, 1, 1, 2, 3, 2, 4, 1, 1, 7, 3, 4, 1, 3, 2, 1, 1, 2, 2, 1, 1, 3, 1, 1, 1, 1, 1, 1, 1, 1, 2, 1, 1, 1, 1, 2, 1, 1, 1, 1, 1, 1, 1, 1, 2, 1, 1, 1, 1, 1, 1, 1, 11, 1, 1, 1, 1, 1, 1, 1, 1, 1, 1, 1, 2, 1, 2, 1, 2, 1, 1, 1, 1, 1, 1, 1, 1, 1, 1, 7, 2, 11, 1, 1, 1, 1, 1, 2, 1, 1, 1, 1, 1, 1, 1, 3, 1, 1, 2, 1, 1, 1, 1, 1, 1, 1, 1, 1, 1, 1, 1, 1, 1, 1, 1, 1, 1, 1, 2, 1, 1, 1, 1, 1, 3, 1, 1, 1, 1, 1, 1, 1, 2, 1, 1, 1, 1, 1, 1, 1, 1, 1, 1, 2, 1, 2, 2, 1, 1, 1, 2, 1, 1, 1, 1, 1, 1, 1, 1, 1, 1, 1, 1, 1, 1, 1, 1, 1, 1, 1, 1, 1, 1, 1, 2, 1, 2, 1, 1, 1, 1, 1, 1, 1, 1, 1, 1, 1, 1, 1, 1, 1, 1, 1, 1, 1, 1, 1, 2, 1, 1, 1, 1, 1, 1, 1, 1, 1, 1, 1])\n",
            "Counter({1: 177, 2: 24, 3: 6, 4: 3, 7: 2, 11: 2, 6: 1, 21: 1, 5: 1, 10: 1})\n"
          ],
          "name": "stdout"
        }
      ]
    },
    {
      "cell_type": "markdown",
      "metadata": {
        "id": "IgflyrEXCFQC"
      },
      "source": [
        "## Plot histogram of word frequency"
      ]
    },
    {
      "cell_type": "code",
      "metadata": {
        "ExecuteTime": {
          "end_time": "2020-03-07T11:17:57.307440Z",
          "start_time": "2020-03-07T11:17:56.990520Z"
        },
        "id": "h44r7Ew_CFQD",
        "outputId": "4d2ef66c-3a12-445a-f97d-7aeb878a9cca"
      },
      "source": [
        "%matplotlib inline\n",
        "import matplotlib.pyplot as plt\n",
        "plt.hist(word_freq.values(), facecolor='green', alpha=0.5, bins=20)"
      ],
      "execution_count": null,
      "outputs": [
        {
          "output_type": "execute_result",
          "data": {
            "text/plain": [
              "(array([177.,  24.,   6.,   3.,   1.,   1.,   2.,   0.,   0.,   1.,   2.,\n",
              "          0.,   0.,   0.,   0.,   0.,   0.,   0.,   0.,   1.]),\n",
              " array([ 1.,  2.,  3.,  4.,  5.,  6.,  7.,  8.,  9., 10., 11., 12., 13.,\n",
              "        14., 15., 16., 17., 18., 19., 20., 21.]),\n",
              " <a list of 20 Patch objects>)"
            ]
          },
          "metadata": {
            "tags": []
          },
          "execution_count": 19
        },
        {
          "output_type": "display_data",
          "data": {
            "image/png": "[encoded data removed]",
            "text/plain": [
              "<Figure size 432x288 with 1 Axes>"
            ]
          },
          "metadata": {
            "tags": [],
            "needs_background": "light"
          }
        }
      ]
    },
    {
      "cell_type": "markdown",
      "metadata": {
        "id": "eospbSG7CFQD"
      },
      "source": [
        "## More: A shortest version to count word frequency"
      ]
    },
    {
      "cell_type": "code",
      "metadata": {
        "ExecuteTime": {
          "end_time": "2020-03-09T05:22:01.961484Z",
          "start_time": "2020-03-09T05:22:01.957786Z"
        },
        "id": "yr3RRiXHCFQD"
      },
      "source": [
        "word_freq = {k:words.count(k) for k in set(words)}"
      ],
      "execution_count": null,
      "outputs": []
    },
    {
      "cell_type": "markdown",
      "metadata": {
        "id": "rh4KsJJCCFQD"
      },
      "source": [
        "## More:Sorting all pairs of key and value"
      ]
    },
    {
      "cell_type": "code",
      "metadata": {
        "ExecuteTime": {
          "end_time": "2020-03-09T05:24:48.432616Z",
          "start_time": "2020-03-09T05:24:48.428332Z"
        },
        "id": "QaqgTleNCFQD",
        "outputId": "f31635ca-5079-4ece-e9d4-0fb0e1acc0c6"
      },
      "source": [
        "import operator\n",
        "sorted_x = sorted(word_freq.items(), \n",
        "                  key=operator.itemgetter(1), \n",
        "                  reverse=True)\n",
        "\n",
        "for k in sorted_x[:6]:\n",
        "    print(k)"
      ],
      "execution_count": null,
      "outputs": [
        {
          "output_type": "stream",
          "text": [
            "('data', 21)\n",
            "('and', 11)\n",
            "('of', 11)\n",
            "('to', 10)\n",
            "('the', 7)\n",
            "('with', 7)\n"
          ],
          "name": "stdout"
        }
      ]
    },
    {
      "cell_type": "markdown",
      "metadata": {
        "id": "OnhiyWOLCFQD"
      },
      "source": [
        "# Sort the data by value"
      ]
    },
    {
      "cell_type": "code",
      "metadata": {
        "ExecuteTime": {
          "end_time": "2020-03-09T05:09:33.596159Z",
          "start_time": "2020-03-09T05:09:33.592828Z"
        },
        "id": "EfO-yoy_CFQE",
        "outputId": "83d17c9d-3359-4f85-9301-91db44d27955",
        "colab": {
          "base_uri": "https://localhost:8080/"
        }
      },
      "source": [
        "sorted_keys = sorted(fruit_count, key=fruit_count.get, reverse=True)\n",
        "print(sorted_keys)"
      ],
      "execution_count": 10,
      "outputs": [
        {
          "output_type": "stream",
          "name": "stdout",
          "text": [
            "['apple', 'banana', 'grape']\n"
          ]
        }
      ]
    },
    {
      "cell_type": "code",
      "metadata": {
        "id": "Im6hqXOI4sCs",
        "outputId": "0c4dc45f-99fb-47b7-ab7a-ff7ccf06a6b8",
        "colab": {
          "base_uri": "https://localhost:8080/"
        }
      },
      "source": [
        "help(fruit_count.get)\n"
      ],
      "execution_count": 9,
      "outputs": [
        {
          "output_type": "stream",
          "name": "stdout",
          "text": [
            "Help on built-in function get:\n",
            "\n",
            "get(key, default=None, /) method of collections.Counter instance\n",
            "    Return the value for key if key is in the dictionary, else default.\n",
            "\n"
          ]
        }
      ]
    },
    {
      "cell_type": "code",
      "metadata": {
        "ExecuteTime": {
          "end_time": "2020-03-09T05:09:35.698455Z",
          "start_time": "2020-03-09T05:09:35.694962Z"
        },
        "id": "eieJAQj7CFQE",
        "outputId": "3885cdea-ac09-4b70-b1a6-25a636011c1b"
      },
      "source": [
        "for key in sorted_keys[:2]:\n",
        "    print(key, fruit_count[key])"
      ],
      "execution_count": null,
      "outputs": [
        {
          "output_type": "stream",
          "text": [
            "apple 4\n",
            "banana 3\n"
          ],
          "name": "stdout"
        }
      ]
    },
    {
      "cell_type": "markdown",
      "metadata": {
        "id": "HQF0qj15CFQE"
      },
      "source": [
        "# Counting grading distribution"
      ]
    },
    {
      "cell_type": "code",
      "metadata": {
        "id": "gfgG5LSQCFQE",
        "outputId": "32a7f9b2-24ae-4090-b59a-0da871a20b97"
      },
      "source": [
        "import random\n",
        "grades  =  [random.randint(35, 100) for i in range(0, 75)]\n",
        "len(grades)\n",
        "# grades"
      ],
      "execution_count": null,
      "outputs": [
        {
          "output_type": "execute_result",
          "data": {
            "text/plain": [
              "75"
            ]
          },
          "metadata": {
            "tags": []
          },
          "execution_count": 38
        }
      ]
    },
    {
      "cell_type": "code",
      "metadata": {
        "id": "vzsckBKOCFQF",
        "outputId": "be501730-ab57-4233-b5e8-593c115789a8"
      },
      "source": [
        "grade_dict = {'F':0, \"C\":0, \"B\":0, \"A\":0}\n",
        "for g in grades:\n",
        "    if 100 >= g >= 80:\n",
        "        grade_dict[\"A\"] += 1\n",
        "    elif 79 >= g >= 72:\n",
        "        grade_dict[\"B\"] += 1\n",
        "    elif 71 >= g >= 60:\n",
        "        grade_dict[\"C\"] += 1\n",
        "    else:\n",
        "        grade_dict[\"F\"] += 1\n",
        "print(grade_dict)"
      ],
      "execution_count": null,
      "outputs": [
        {
          "output_type": "stream",
          "text": [
            "{'F': 27, 'C': 12, 'B': 12, 'A': 24}\n"
          ],
          "name": "stdout"
        }
      ]
    },
    {
      "cell_type": "code",
      "metadata": {
        "id": "KePv1DuMCFQG",
        "outputId": "9c1a1b01-72b9-4c22-8fc0-c11952e803cc"
      },
      "source": [
        "stu_dict = {}\n",
        "stu_list = [\"soc\", \"soc\", \"econ\", \"bio\", \"psy\", \"psy\", \"econ\", \"poli\", \"econ\"]\n",
        "for student in stu_list:\n",
        "    stu_dict[student] = 0\n",
        "for student in stu_list:\n",
        "    stu_dict[student] += 1\n",
        "print(stu_dict)"
      ],
      "execution_count": null,
      "outputs": [
        {
          "output_type": "stream",
          "text": [
            "{'soc': 2, 'econ': 3, 'bio': 1, 'psy': 2, 'poli': 1}\n"
          ],
          "name": "stdout"
        }
      ]
    }
  ]
}