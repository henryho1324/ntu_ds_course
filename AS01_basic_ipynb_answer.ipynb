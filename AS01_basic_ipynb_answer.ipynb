{
  "nbformat": 4,
  "nbformat_minor": 0,
  "metadata": {
    "colab": {
      "name": "「AS01_basic.ipynb」的副本",
      "provenance": [],
      "collapsed_sections": [],
      "include_colab_link": true
    },
    "kernelspec": {
      "display_name": "Python 3 (ipykernel)",
      "language": "python",
      "name": "python3"
    },
    "language_info": {
      "codemirror_mode": {
        "name": "ipython",
        "version": 3
      },
      "file_extension": ".py",
      "mimetype": "text/x-python",
      "name": "python",
      "nbconvert_exporter": "python",
      "pygments_lexer": "ipython3",
      "version": "3.8.12"
    },
    "toc": {
      "base_numbering": 1,
      "nav_menu": {},
      "number_sections": true,
      "sideBar": true,
      "skip_h1_title": false,
      "title_cell": "Table of Contents",
      "title_sidebar": "Contents",
      "toc_cell": false,
      "toc_position": {},
      "toc_section_display": true,
      "toc_window_display": true
    },
    "varInspector": {
      "cols": {
        "lenName": 16,
        "lenType": 16,
        "lenVar": 40
      },
      "kernels_config": {
        "python": {
          "delete_cmd_postfix": "",
          "delete_cmd_prefix": "del ",
          "library": "var_list.py",
          "varRefreshCmd": "print(var_dic_list())"
        },
        "r": {
          "delete_cmd_postfix": ") ",
          "delete_cmd_prefix": "rm(",
          "library": "var_list.r",
          "varRefreshCmd": "cat(var_dic_list()) "
        }
      },
      "types_to_exclude": [
        "module",
        "function",
        "builtin_function_or_method",
        "instance",
        "_Feature"
      ],
      "window_display": false
    }
  },
  "cells": [
    {
      "cell_type": "markdown",
      "metadata": {
        "id": "view-in-github",
        "colab_type": "text"
      },
      "source": [
        "<a href=\"https://colab.research.google.com/github/henryho1324/ntu_ds_course/blob/master/AS01_basic_ipynb_answer.ipynb\" target=\"_parent\"><img src=\"https://colab.research.google.com/assets/colab-badge.svg\" alt=\"Open In Colab\"/></a>"
      ]
    },
    {
      "cell_type": "markdown",
      "metadata": {
        "id": "sQQyD_YkjNxI"
      },
      "source": [
        "# Q1_1: Converting Fahrenheit to Celsius temperature degree\n",
        "\n",
        "課程`P02_basic.ipynb`中以華氏溫度轉攝氏溫度為例子示範加減乘除。<br>請你寫出轉換攝氏溫度為華氏溫度的Code。並輸出為以下型態（攝氏`tc`溫度等於華氏`tf`溫度減`32`後乘以`5/9`，那反過來呢？）。\n",
        "```\n",
        "Sample output: \n",
        "    tc:  10 \ttf:  50.0\n",
        "```"
      ]
    },
    {
      "cell_type": "code",
      "metadata": {
        "ExecuteTime": {
          "end_time": "2020-03-17T03:19:33.590969Z",
          "start_time": "2020-03-17T03:19:33.588177Z"
        },
        "id": "b0worFEpjNxM",
        "colab": {
          "base_uri": "https://localhost:8080/"
        },
        "outputId": "6bd94ed1-ecaa-499e-9c37-11d9e6ac6b70"
      },
      "source": [
        "tc = 10\n",
        "# Your code should be here\n",
        "tf = tc * 9/5 + 32\n",
        "print('\\t', 'tc:  ' + str(tc), '\\t', 'tf:  ' + str(tf))"
      ],
      "execution_count": null,
      "outputs": [
        {
          "output_type": "stream",
          "name": "stdout",
          "text": [
            "\t tc:  10 \t tf:  50.0\n"
          ]
        }
      ]
    },
    {
      "cell_type": "markdown",
      "metadata": {
        "id": "L7uDk1mojNxN"
      },
      "source": [
        "# Q1_2: Using raw_input() to aceept keyboard input\n",
        "\n",
        "本題中請你用`raw_input()`讀取鍵盤輸入，程式碼如下。<br>\n",
        "僅是把課程範例中華氏轉攝氏氣溫的程式碼修改為鍵盤輸入。<br>\n",
        "但這樣的程式碼可能會連續遇到兩個錯誤，請修正之。<br>\n",
        "並以input 50為測試資料，將答案輸出為以下格式。<br>\n",
        "注意，必須要完全與下述字串相同（`10.0`和`10`是不同的)<br>\n",
        "```\n",
        "tf input is 50, and tc output is 10\n",
        "```\n",
        "\n",
        "**參考資料：**可以參考這篇[PyFormat](https://pyformat.info/)來了解`%d`和`.format()`另外一種print formatting的寫法。<br>\n",
        "也可參考以下網址的內容：https://docs.python.org/3/tutorial/inputout"
      ]
    },
    {
      "cell_type": "code",
      "metadata": {
        "ExecuteTime": {
          "end_time": "2020-03-17T03:21:27.897409Z",
          "start_time": "2020-03-17T03:21:25.084299Z"
        },
        "id": "7TMhB68IjNxO",
        "outputId": "d84d9e8e-36f3-48e9-cde2-08eeb3c26709"
      },
      "source": [
        "tf = raw_input()\n",
        "tc = 5.0/9.0*(tf-32)\n"
      ],
      "execution_count": null,
      "outputs": [
        {
          "name": "stdin",
          "output_type": "stream",
          "text": [
            " 50\n"
          ]
        },
        {
          "name": "stdout",
          "output_type": "stream",
          "text": [
            "tf input is  50 , and tc output is  10\n"
          ]
        }
      ]
    },
    {
      "cell_type": "markdown",
      "metadata": {
        "id": "Pru8jqKbjNxO"
      },
      "source": [
        "# Q2: Swapping values of two variables\n",
        "\n",
        "Python有一個非常方便的地方是他可以同時Assign兩個Variables。<br>\n",
        "例如我若要把兩個variables所儲存的values調換的話，我可以像下面這麼做。\n",
        "```\n",
        "a, b = 1, 3\n",
        "print(a, b)\n",
        "a, b = b, a\n",
        "print(a, b)\n",
        "```\n",
        "這個動作稱為**SWAP**，所得到的結果如下。\n",
        "```\n",
        "1 3     # Before swapping\n",
        "3 1     # After swapping\n",
        "```\n",
        "但我現在希望，Assign符號左側只能有一個variable，請問這樣要如何**SWAP**以下`a`與`b`的變數內容。提示：你可能需要另一個變數來暫存`a`或`b`的值。"
      ]
    },
    {
      "cell_type": "code",
      "metadata": {
        "id": "CkKMAig5jNxO",
        "outputId": "e2a704c0-bd36-4ab9-e99b-b37466f0e248"
      },
      "source": [
        "\n",
        "a = 10\n",
        "b = 30\n",
        "print(a, b)\n",
        "# your code should be here\n",
        "\n",
        "\n",
        "\n",
        "\n",
        "print(a, b)"
      ],
      "execution_count": null,
      "outputs": [
        {
          "name": "stdout",
          "output_type": "stream",
          "text": [
            "10 30\n",
            "30 10\n"
          ]
        }
      ]
    },
    {
      "cell_type": "markdown",
      "metadata": {
        "id": "_5hUG1KWjNxP"
      },
      "source": [
        "# Q3: Accessing Taipei Bus real time data\n",
        "\n",
        "以下是台北市公車某線的即時資料。請觀察該資料並回答以下問題。"
      ]
    },
    {
      "cell_type": "code",
      "metadata": {
        "id": "33uZu8hLjNxP",
        "colab": {
          "base_uri": "https://localhost:8080/"
        },
        "outputId": "27c58771-2713-497b-92a7-8dc6dcfad5bc"
      },
      "source": [
        "import requests\n",
        "import json\n",
        "url = \"https://pda.5284.gov.taipei/MQS/RouteDyna?routeid=11763&nocache=1633009377839\"\n",
        "response = requests.get(url)\n",
        "route = json.loads(response.text)\n",
        "print(type(route))"
      ],
      "execution_count": null,
      "outputs": [
        {
          "output_type": "stream",
          "name": "stdout",
          "text": [
            "<class 'dict'>\n"
          ]
        }
      ]
    },
    {
      "cell_type": "markdown",
      "metadata": {
        "id": "VOZYSL1aXxjw"
      },
      "source": [
        "## Q3_1 Accessing data\n",
        "請列印出你所抓到的資料時間。\n",
        "```\n",
        "Output sample: \n",
        "    2021-09-30 21:48:56\n",
        "```"
      ]
    },
    {
      "cell_type": "code",
      "metadata": {
        "id": "iTrAp3MSXxjw",
        "colab": {
          "base_uri": "https://localhost:8080/"
        },
        "outputId": "91921237-1b4f-40ac-9948-9bbc66698191"
      },
      "source": [
        "# YOUR CODE HERE\n",
        "print(route.keys())\n",
        "print(route['UpdateTime'])"
      ],
      "execution_count": null,
      "outputs": [
        {
          "output_type": "stream",
          "name": "stdout",
          "text": [
            "dict_keys(['UpdateTime', 'Stop', 'Bus'])\n",
            "2021-10-15 22:37:37\n"
          ]
        }
      ]
    },
    {
      "cell_type": "markdown",
      "metadata": {
        "id": "8L04auL5jnqa"
      },
      "source": [
        "## Q3_2: Number of bus\n",
        "請問在你所抓的時間點共有幾台公車？\n",
        "```\n",
        "Output sample: \n",
        "    2021-09-30 21:48:56 There are  4 buses\n",
        "```"
      ]
    },
    {
      "cell_type": "code",
      "metadata": {
        "id": "wAb1Cgs5jm2g",
        "colab": {
          "base_uri": "https://localhost:8080/"
        },
        "outputId": "7d774872-693d-44c7-bf95-60295b4d1384"
      },
      "source": [
        "# YOUR CODE HERE\n",
        "bus_num = len(route['Bus'])\n",
        "print(route['UpdateTime'], 'There are', bus_num, 'buses')"
      ],
      "execution_count": null,
      "outputs": [
        {
          "output_type": "stream",
          "name": "stdout",
          "text": [
            "2021-10-15 22:37:37 There are 6 buses\n"
          ]
        }
      ]
    },
    {
      "cell_type": "markdown",
      "metadata": {
        "id": "l4oXA_1cXxjx"
      },
      "source": [
        "## Q3_3: 該線公車在該時間點共有幾個停靠站？\n",
        "```\n",
        "Output Sample: \n",
        "    Number of stop:  85\n",
        "```"
      ]
    },
    {
      "cell_type": "code",
      "metadata": {
        "id": "O-gvrpKCXxjy",
        "colab": {
          "base_uri": "https://localhost:8080/"
        },
        "outputId": "ddf47eca-1ca9-41ae-8bbd-ceaec5c5ca24"
      },
      "source": [
        "# YOUR CODE HERE  \n",
        "print(len(route['Stop']))"
      ],
      "execution_count": null,
      "outputs": [
        {
          "output_type": "stream",
          "name": "stdout",
          "text": [
            "85\n"
          ]
        }
      ]
    },
    {
      "cell_type": "markdown",
      "metadata": {
        "id": "pL9oa-T3jNxP"
      },
      "source": [
        "##  Q3_4: Print out bus id\n",
        "\n",
        "印出資料抓取時間點的所有公車車牌號碼。\n",
        "```\n",
        "Output sample: \n",
        "    563-FZ\n",
        "    EAL-0102\n",
        "    380-U8\n",
        "    KKA-0668\n",
        "```"
      ]
    },
    {
      "cell_type": "code",
      "metadata": {
        "id": "Lle4rCIBjNxP",
        "colab": {
          "base_uri": "https://localhost:8080/"
        },
        "outputId": "0f037f5a-efbb-42de-a68a-06e18c08991b"
      },
      "source": [
        "for bus in route['Bus']:\n",
        "    print(bus['num'])\n",
        "    # YOUR CODE HERE\n",
        "    \n",
        "    "
      ],
      "execution_count": null,
      "outputs": [
        {
          "output_type": "stream",
          "name": "stdout",
          "text": [
            "EAL-0103\n",
            "EAL-0102\n",
            "EAL-0038\n",
            "565-FZ\n",
            "KKA-0363\n",
            "585-FZ\n"
          ]
        }
      ]
    },
    {
      "cell_type": "markdown",
      "metadata": {
        "id": "Wa3ff6zMXxj0"
      },
      "source": [
        "# Q4: String as list\n",
        "在Python中，string字串也可以用list的方式來存取。如"
      ]
    },
    {
      "cell_type": "code",
      "metadata": {
        "id": "Fv9WYjfsXxj1",
        "outputId": "fe764ed9-71bd-4371-9ddd-21a6b5a47244"
      },
      "source": [
        "word = \"Pneumonoultramicroscopicsilicovolcanoconiosis\" # 實際上存在的單字\n",
        "print(word[3])"
      ],
      "execution_count": null,
      "outputs": [
        {
          "name": "stdout",
          "output_type": "stream",
          "text": [
            "u\n"
          ]
        }
      ]
    },
    {
      "cell_type": "markdown",
      "metadata": {
        "id": "qH3ksZP1Xxj2"
      },
      "source": [
        "## Q4_1 Character frequency counting\n",
        "請用dictionary計算該字串中每個字元出現過幾次。\n",
        "```\n",
        "Output: \n",
        "    {'P': 1, 'n': 4, 'e': 1, 'u': 2, 'm': 2, 'o': 9, 'l': 3, 't': 1, 'r': 2, 'a': 2, 'i': 6, 'c': 6, 's': 4, 'p': 1, 'v': 1}\n",
        "```"
      ]
    },
    {
      "cell_type": "code",
      "metadata": {
        "id": "vCMdffmUXxj3",
        "colab": {
          "base_uri": "https://localhost:8080/"
        },
        "outputId": "0e6c1af4-a765-46f5-f2c6-d7b443dbe76a"
      },
      "source": [
        "word = \"Pneumonoultramicroscopicsilicovolcanoconiosis\"\n",
        "\n",
        "# YOUR CODE SHOULD BE HERE\n",
        "cdict = {}\n",
        "for letter in word:\n",
        "    if letter not in cdict.keys():\n",
        "        cdict[letter] = 1\n",
        "    else:\n",
        "        cdict[letter] += 1\n",
        "\n",
        "\n",
        "print(cdict)"
      ],
      "execution_count": null,
      "outputs": [
        {
          "output_type": "stream",
          "name": "stdout",
          "text": [
            "{'P': 1, 'n': 4, 'e': 1, 'u': 2, 'm': 2, 'o': 9, 'l': 3, 't': 1, 'r': 2, 'a': 2, 'i': 6, 'c': 6, 's': 4, 'p': 1, 'v': 1}\n"
          ]
        }
      ]
    },
    {
      "cell_type": "markdown",
      "metadata": {
        "id": "iiLR1EDwXxj3"
      },
      "source": [
        "## Q4_2 Print out top 3 characters\n",
        "觀察`P01_countting`的sorting程式碼，列印出出現次數最高的三個字。\n",
        "```\n",
        "Output sample: \n",
        "    ('o', 9)\n",
        "    ('i', 6)\n",
        "    ('c', 6)\n",
        "```"
      ]
    },
    {
      "cell_type": "code",
      "metadata": {
        "id": "RJ_NT4QKXxj4",
        "colab": {
          "base_uri": "https://localhost:8080/"
        },
        "outputId": "84183dec-418d-4c4c-db64-447324ec62b9"
      },
      "source": [
        "## YOUR CODE SHOULD BE HERE\n",
        "sorted_keys = sorted(cdict, key=cdict.get, reverse=True)\n",
        "for key in sorted_keys[:3]:\n",
        "    pair = (key, cdict[key])\n",
        "    print(pair)\n",
        "\n",
        "\n",
        "\n",
        "\n",
        "\n"
      ],
      "execution_count": null,
      "outputs": [
        {
          "output_type": "stream",
          "name": "stdout",
          "text": [
            "('o', 9)\n",
            "('i', 6)\n",
            "('c', 6)\n"
          ]
        }
      ]
    }
  ]
}